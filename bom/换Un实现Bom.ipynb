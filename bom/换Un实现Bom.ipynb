{
 "cells": [
  {
   "metadata": {},
   "cell_type": "code",
   "outputs": [],
   "execution_count": null,
   "source": "",
   "id": "1cdae027d2134b58"
  },
  {
   "metadata": {},
   "cell_type": "markdown",
   "source": [
    "截止2.2.40版本，UN函数消失，改为VN，且不可改变其传参(r,n,t,e)，Zr改为Xr，函数如下\n",
    "```javascript\n",
    "function Vn(r,n,t,e){n.ids[r]?e!==!0&&(Xr(r,!1),delete n.ids[r]):e!==!1&&(n.allIdsData.map(c=>{c.UniqueID==r&&(t.cursorPosition={x:c[\"Mid X\"]/Si,y:c[\"Mid Y\"]/Si},t.render())}),Xr(r,!0),n.ids[r]=!0)}\n",
    "```\n"
   ],
   "id": "3a0fba38367e8bc"
  },
  {
   "cell_type": "code",
   "id": "initial_id",
   "metadata": {
    "collapsed": true,
    "ExecuteTime": {
     "end_time": "2025-07-09T16:58:57.135127Z",
     "start_time": "2025-07-09T16:58:57.098504Z"
    }
   },
   "source": [
    "import regex as re\n",
    "\n",
    "def replace_un_function(html_content, new_function_code):\n",
    "    \"\"\"\n",
    "    替换HTML内容中参数为(r, n, t, e)的旧Un函数为新的Un函数定义。\n",
    "\n",
    "    :param html_content: 原始HTML内容字符串\n",
    "    :param new_function_code: 新的Un函数定义字符串\n",
    "    :return: 修改后的HTML内容字符串\n",
    "    \"\"\"\n",
    "    # 定义递归正则表达式模式以匹配嵌套的大括号\n",
    "    pattern = r'''\n",
    "    function\\s+Vn\\s*\\(\\s*r\\s*,\\s*n\\s*,\\s*t\\s*,\\s*e\\s*\\)\\s*\\{\n",
    "        (?<BRACE>\n",
    "            (?:\n",
    "                [^{}]+\n",
    "                |\n",
    "                \\{(?&BRACE)\\}\n",
    "            )*\n",
    "        )\n",
    "    \\}\n",
    "    '''\n",
    "\n",
    "    # 使用regex模块进行递归匹配\n",
    "    compiled_pattern = re.compile(pattern, re.VERBOSE | re.DOTALL)\n",
    "\n",
    "    # 替换函数\n",
    "    new_html_content, num_subs = compiled_pattern.subn(new_function_code, html_content)\n",
    "\n",
    "    if num_subs == 0:\n",
    "        print(\"警告：未找到匹配的Un函数定义 (参数为r, n, t, e)。\")\n",
    "    else:\n",
    "        print(f\"成功替换了 {num_subs} 处Un函数定义。\")\n",
    "\n",
    "    return new_html_content\n",
    "\n",
    "def main():\n",
    "    # 输入和输出文件路径\n",
    "    input_file = 'InteractiveBOM_PCB1_2025-7-9.html'   # 请替换为你的HTML文件路径\n",
    "    output_file = 'output.html' # 你可以选择覆盖原文件或输出到新文件\n",
    "\n",
    "    # 读取原始HTML文件内容\n",
    "    with open(input_file, 'r', encoding='utf-8') as f:\n",
    "        html_content = f.read()\n",
    "\n",
    "    # 定义新的Un函数代码\n",
    "    new_un_function = \"\"\"\n",
    "function Vn(r,n,t,e) {\n",
    "    uniqueId=r;\n",
    "    state=n;\n",
    "    context=t;\n",
    "    flag=e;\n",
    "    if (state.ids[uniqueId]) {\n",
    "        // 如果该ID已经被选中，并且flag不为true，则取消选中\n",
    "        if (flag !== true) {\n",
    "            // 更新选择状态为未选中\n",
    "            Xr(uniqueId, false);\n",
    "            // 从已选中ID列表中移除\n",
    "            delete state.ids[uniqueId];\n",
    "        }\n",
    "    } else {\n",
    "        // 如果该ID未被选中，并且flag不为false，则进行选中操作\n",
    "        if (flag !== false) {\n",
    "            // 遍历所有ID的数据，找到匹配的ID并更新光标位置\n",
    "            state.allIdsData.forEach(item => {\n",
    "                if (item.UniqueID === uniqueId) {\n",
    "                    console.log(`器件编号:${item.Customer_Component_Code}, 器件名称:${item.Customer_Comment}, 封装:${item.Customer_Footprint_Name}`);\n",
    "                    context.cursorPosition = {\n",
    "                        x: item[\"Mid X\"] / Mi, // 假设Mi是一个已定义的缩放因子\n",
    "                        y: item[\"Mid Y\"] / Mi\n",
    "                    };\n",
    "                    // 重新渲染界面\n",
    "                    context.render();\n",
    "                }\n",
    "            });\n",
    "            // 更新选择状态为选中\n",
    "            Xr(uniqueId, true);\n",
    "            // 将该ID标记为已选中\n",
    "            state.ids[uniqueId] = true;\n",
    "        }\n",
    "    }\n",
    "}\n",
    "\"\"\".strip()\n",
    "\n",
    "    # 调用替换函数\n",
    "    updated_html = replace_un_function(html_content, new_un_function)\n",
    "\n",
    "    # 写入修改后的内容到输出文件\n",
    "    with open(output_file, 'w', encoding='utf-8') as f:\n",
    "        f.write(updated_html)\n",
    "\n",
    "    print(f\"修改后的HTML已保存到 {output_file}\")\n",
    "\n",
    "if __name__ == \"__main__\":\n",
    "    main()\n"
   ],
   "outputs": [
    {
     "name": "stdout",
     "output_type": "stream",
     "text": [
      "成功替换了 1 处Un函数定义。\n",
      "修改后的HTML已保存到 output.html\n"
     ]
    }
   ],
   "execution_count": 8
  },
  {
   "metadata": {},
   "cell_type": "code",
   "outputs": [],
   "execution_count": null,
   "source": "",
   "id": "6c3f4162158e8560"
  }
 ],
 "metadata": {
  "kernelspec": {
   "display_name": "Python 3",
   "language": "python",
   "name": "python3"
  },
  "language_info": {
   "codemirror_mode": {
    "name": "ipython",
    "version": 2
   },
   "file_extension": ".py",
   "mimetype": "text/x-python",
   "name": "python",
   "nbconvert_exporter": "python",
   "pygments_lexer": "ipython2",
   "version": "2.7.6"
  }
 },
 "nbformat": 4,
 "nbformat_minor": 5
}
